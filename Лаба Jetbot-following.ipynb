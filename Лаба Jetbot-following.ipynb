{
 "cells": [
  {
   "cell_type": "markdown",
   "metadata": {},
   "source": [
    "# Отчет по лабораторной работе о следовании роботом линии\n",
    "### Плюснин Павел"
   ]
  },
  {
   "cell_type": "markdown",
   "metadata": {},
   "source": [
    "После долгой и муторной установки, настройки среды, проблем с Dockerом, ROSом, разбирательств с видеокартой, gazebo,  полного переделывания лабы на локальном компьютере в Ubuntu и на JetBote показываю код, с помощью которого робот может придерживаться линии на полу.\n",
    "Основной скрипт кода приведен ниже. На деле дополнительно вдохновлялся материалами этого репозитория: https://github.com/kulbir-ahluwalia/Turtlebot_3_PID"
   ]
  },
  {
   "cell_type": "code",
   "execution_count": null,
   "metadata": {
    "collapsed": true
   },
   "outputs": [],
   "source": [
    "import rospy, cv2, cv_bridge, numpy\n",
    "from sensor_msgs.msg import Image, CameraInfo\n",
    "from geometry_msgs.msg import Twist\n",
    "\n",
    "class Follower:\n",
    "    def __init__(self):\n",
    "        self.bridge = cv_bridge.CvBridge()\n",
    "        #self.image_sub = rospy.Subscriber('/mybot/camera1/image_raw', \n",
    "        #                                  Image, self.image_callback)\n",
    "        self.cmd_vel_pub = rospy.Publisher('/cmd_vel',\n",
    "                                           Twist, queue_size=1)\n",
    "        self.twist = Twist()\n",
    "        \n",
    "    def image_callback(self, msg):\n",
    "        image = self.bridge.imgmsg_to_cv2(msg,desired_encoding='bgr8')\n",
    "        hsv = cv2.cvtColor(image, cv2.COLOR_BGR2HSV) \n",
    "\n",
    "        lower_black = numpy.array([ 0,  0,  0])\n",
    "        upper_black = numpy.array([170, 150, 50])\n",
    "        mask = cv2.inRange(hsv, lower_black, upper_black)\n",
    "\n",
    "        h, w, d = image.shape\n",
    "        search_top = 3 * h / 4\n",
    "        search_bot = 3 * h / 4 + 20\n",
    "        mask[0:search_top, 0:w] = 0\n",
    "        mask[search_bot:h, 0:w] = 0\n",
    "        M = cv2.moments(mask)\n",
    "        if M['m00'] > 5:\n",
    "                cx = int( M['m10'] / M['m00'] )\n",
    "                cy = int( M['m01'] / M['m00'] )\n",
    "\n",
    "                err = cx - w/2\n",
    "                self.twist.linear.x = 0.2\n",
    "                self.twist.angular.z = -float(err) / 100\n",
    "                self.cmd_vel_pub.publish(self.twist)\n",
    "\n",
    "rospy.init_node('follower')\n",
    "follower = Follower()\n",
    "rospy.spin()"
   ]
  },
  {
   "cell_type": "markdown",
   "metadata": {},
   "source": [
    "# Видео с демонстрацией результата\n",
    "[![Видео с демонстрацией результата](https://plyus.pw/wp-content/uploads/2020/11/video_predpr.jpg)](https://plyus.pw/wp-content/uploads/2020/11/my_video_547.mp4 \"Демонстрация\")"
   ]
  }
 ],
 "metadata": {
  "kernelspec": {
   "display_name": "Python 3",
   "language": "python",
   "name": "python3"
  },
  "language_info": {
   "codemirror_mode": {
    "name": "ipython",
    "version": 3
   },
   "file_extension": ".py",
   "mimetype": "text/x-python",
   "name": "python",
   "nbconvert_exporter": "python",
   "pygments_lexer": "ipython3",
   "version": "3.6.4"
  }
 },
 "nbformat": 4,
 "nbformat_minor": 2
}
